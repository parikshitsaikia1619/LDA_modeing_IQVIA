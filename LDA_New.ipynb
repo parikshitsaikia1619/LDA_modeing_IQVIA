{
 "cells": [
  {
   "cell_type": "markdown",
   "id": "2d8fe9a6",
   "metadata": {},
   "source": [
    "## Coding Assignment\n",
    "<i>Q: Write a python class with different function to fit LDA model, evaluate optimal number of topics based on best coherence scores and predict new instances based on best LDA model with optimal number of topics based on best coherence score. Function should take 2darray of embeddings as input and return a LDA model, optimal number of topics and topics.</i>"
   ]
  },
  {
   "cell_type": "code",
   "execution_count": null,
   "id": "b5f7b8e7",
   "metadata": {},
   "outputs": [],
   "source": [
    "\"\"\"\n",
    "author: Parikshit Saikia\n",
    "email: pariksihtsaikia1619@gmail.com\n",
    "github: https://github.com/parikshitsaikia1619\n",
    "date: 20-08-2021\n",
    "\"\"\""
   ]
  },
  {
   "cell_type": "markdown",
   "id": "58bb1417",
   "metadata": {},
   "source": [
    "### Step 1: Import neccessary Libraries"
   ]
  },
  {
   "cell_type": "code",
   "execution_count": 1,
   "id": "favorite-musician",
   "metadata": {},
   "outputs": [
    {
     "name": "stderr",
     "output_type": "stream",
     "text": [
      "D:\\Anaconda\\envs\\parixit\\lib\\site-packages\\gensim\\similarities\\__init__.py:15: UserWarning: The gensim.similarities.levenshtein submodule is disabled, because the optional Levenshtein package <https://pypi.org/project/python-Levenshtein/> is unavailable. Install Levenhstein (e.g. `pip install python-Levenshtein`) to suppress this warning.\n",
      "  warnings.warn(msg)\n"
     ]
    }
   ],
   "source": [
    "import numpy as np\n",
    "import pandas as pd\n",
    "import matplotlib.pyplot as plt\n",
    "\n",
    "import gensim\n",
    "import gensim.corpora as corpora\n",
    "from gensim.utils import simple_preprocess\n",
    "from gensim.models import CoherenceModel\n",
    "\n",
    "import spacy\n",
    "from tqdm.notebook import tqdm\n",
    "#spacy download en_core_web_sm"
   ]
  },
  {
   "cell_type": "code",
   "execution_count": 2,
   "id": "continuous-shame",
   "metadata": {},
   "outputs": [
    {
     "name": "stderr",
     "output_type": "stream",
     "text": [
      "[nltk_data] Downloading package stopwords to C:\\Users\\Parikshit\n",
      "[nltk_data]     Saikia\\AppData\\Roaming\\nltk_data...\n",
      "[nltk_data]   Package stopwords is already up-to-date!\n"
     ]
    }
   ],
   "source": [
    "import nltk\n",
    "nltk.download('stopwords')\n",
    "from nltk.corpus import stopwords\n",
    "stop_words = stopwords.words('english')"
   ]
  },
  {
   "cell_type": "markdown",
   "id": "a38c41b5",
   "metadata": {},
   "source": [
    "### Step 2: Load the dataset\n",
    "This dataset contains a set of research articles related to computer science, mathematics, physics and statistics. Each article is tagged into major and minor topics in the form one hot encoding.<br>\n",
    "But for our task (topic modeling) we don't need the tags, we just need the articles text.<br>\n",
    "From the dataset we will form a list of articles<br>"
   ]
  },
  {
   "cell_type": "code",
   "execution_count": 3,
   "id": "muslim-powder",
   "metadata": {},
   "outputs": [],
   "source": [
    "data = pd.read_csv('./data/research_articles/Train.csv/Processed_train.csv')"
   ]
  },
  {
   "cell_type": "code",
   "execution_count": 4,
   "id": "beb61dd4",
   "metadata": {},
   "outputs": [
    {
     "data": {
      "text/html": [
       "<div>\n",
       "<style scoped>\n",
       "    .dataframe tbody tr th:only-of-type {\n",
       "        vertical-align: middle;\n",
       "    }\n",
       "\n",
       "    .dataframe tbody tr th {\n",
       "        vertical-align: top;\n",
       "    }\n",
       "\n",
       "    .dataframe thead th {\n",
       "        text-align: right;\n",
       "    }\n",
       "</style>\n",
       "<table border=\"1\" class=\"dataframe\">\n",
       "  <thead>\n",
       "    <tr style=\"text-align: right;\">\n",
       "      <th></th>\n",
       "      <th>ABSTRACT</th>\n",
       "      <th>Major_topics</th>\n",
       "      <th>Minor_topics</th>\n",
       "    </tr>\n",
       "  </thead>\n",
       "  <tbody>\n",
       "    <tr>\n",
       "      <th>0</th>\n",
       "      <td>a ever-growing datasets inside observational a...</td>\n",
       "      <td>[0, 0, 1, 0]</td>\n",
       "      <td>[0, 0, 0, 0, 0, 0, 1, 0, 0, 0, 0, 0, 1, 0, 0, ...</td>\n",
       "    </tr>\n",
       "    <tr>\n",
       "      <th>1</th>\n",
       "      <td>we propose the framework considering optimal $...</td>\n",
       "      <td>[1, 0, 0, 0]</td>\n",
       "      <td>[0, 0, 0, 0, 0, 0, 0, 1, 0, 0, 0, 0, 0, 0, 0, ...</td>\n",
       "    </tr>\n",
       "    <tr>\n",
       "      <th>2</th>\n",
       "      <td>nanostructures with open shell transition meta...</td>\n",
       "      <td>[0, 0, 1, 0]</td>\n",
       "      <td>[0, 0, 0, 0, 0, 0, 0, 0, 0, 0, 0, 0, 0, 0, 0, ...</td>\n",
       "    </tr>\n",
       "    <tr>\n",
       "      <th>3</th>\n",
       "      <td>stars are self-gravitating fluids inside which...</td>\n",
       "      <td>[0, 0, 1, 0]</td>\n",
       "      <td>[0, 0, 0, 0, 0, 0, 0, 0, 0, 0, 1, 0, 0, 0, 0, ...</td>\n",
       "    </tr>\n",
       "    <tr>\n",
       "      <th>4</th>\n",
       "      <td>deep neural perception and control networks ar...</td>\n",
       "      <td>[1, 0, 0, 0]</td>\n",
       "      <td>[0, 0, 0, 0, 0, 1, 0, 0, 0, 0, 0, 0, 0, 1, 0, ...</td>\n",
       "    </tr>\n",
       "  </tbody>\n",
       "</table>\n",
       "</div>"
      ],
      "text/plain": [
       "                                            ABSTRACT  Major_topics  \\\n",
       "0  a ever-growing datasets inside observational a...  [0, 0, 1, 0]   \n",
       "1  we propose the framework considering optimal $...  [1, 0, 0, 0]   \n",
       "2  nanostructures with open shell transition meta...  [0, 0, 1, 0]   \n",
       "3  stars are self-gravitating fluids inside which...  [0, 0, 1, 0]   \n",
       "4  deep neural perception and control networks ar...  [1, 0, 0, 0]   \n",
       "\n",
       "                                        Minor_topics  \n",
       "0  [0, 0, 0, 0, 0, 0, 1, 0, 0, 0, 0, 0, 1, 0, 0, ...  \n",
       "1  [0, 0, 0, 0, 0, 0, 0, 1, 0, 0, 0, 0, 0, 0, 0, ...  \n",
       "2  [0, 0, 0, 0, 0, 0, 0, 0, 0, 0, 0, 0, 0, 0, 0, ...  \n",
       "3  [0, 0, 0, 0, 0, 0, 0, 0, 0, 0, 1, 0, 0, 0, 0, ...  \n",
       "4  [0, 0, 0, 0, 0, 1, 0, 0, 0, 0, 0, 0, 0, 1, 0, ...  "
      ]
     },
     "execution_count": 4,
     "metadata": {},
     "output_type": "execute_result"
    }
   ],
   "source": [
    "data.head()"
   ]
  },
  {
   "cell_type": "code",
   "execution_count": 5,
   "id": "egyptian-passport",
   "metadata": {},
   "outputs": [],
   "source": [
    "articles_data = data.ABSTRACT.values.tolist()"
   ]
  },
  {
   "cell_type": "markdown",
   "id": "675e13f7",
   "metadata": {},
   "source": [
    "### Step 3: Creating a Data Preprocessing Pipeline\n",
    "\n",
    "This is the most important step in this entire code . We cannot expect good results from a model trained on a uncleaned data.<br>\n",
    "As the famous quote goes <i>\"garbage in,garbage out\"</i><br>\n",
    "We want our corpus consisting a list of representative words capturing the essence of each article, To achieve that we need to follow a sequence of steps:<br>\n",
    "![nlp_preprocessing](image.PNG)\n",
    "<br>"
   ]
  },
  {
   "cell_type": "code",
   "execution_count": 6,
   "id": "monetary-delay",
   "metadata": {},
   "outputs": [],
   "source": [
    "def convert_lowercase(string_list):\n",
    "    \"\"\"\n",
    "    Convert the list of strings to lowercase and returns the list\n",
    "    \"\"\"\n",
    "    pbar = tqdm(total = len(string_list),desc='lowercase conversion progress')\n",
    "    for i in range(len(string_list)):\n",
    "        string_list[i] = string_list[i].lower()\n",
    "        pbar.update(1)\n",
    "    pbar.close()\n",
    "    return string_list\n",
    "\n",
    "def remove_punctuation(doc_list):\n",
    "    \"\"\"\n",
    "    Tokenization and remove punctuation and return the list of tokens\n",
    "    \"\"\"\n",
    "    doc_word_list = []\n",
    "    pbar = tqdm(total = len(doc_list),desc='punctuation removal progress')\n",
    "    for doc in doc_list:\n",
    "        doc_word_list.append(gensim.utils.simple_preprocess(str(doc), deacc=True,min_len=4))  # deacc=True removes punctuations\n",
    "        pbar.update(1)\n",
    "    pbar.close()\n",
    "    return doc_word_list\n",
    "\n",
    "def remove_stopwords(texts):\n",
    "    \"\"\"\n",
    "    Remove common occuring words from the list of tokens\n",
    "    stop words : a,an ,the ,so ,from ...\n",
    "    \n",
    "    \"\"\"\n",
    "    docs_data=[]\n",
    "    stop_words = stopwords.words('english')\n",
    "    pbar = tqdm(total = len(texts),desc='stopword removal progress')\n",
    "    for doc in texts:\n",
    "        doc_data=[]\n",
    "        for word in doc:\n",
    "            if word not in stop_words:\n",
    "                doc_data.append(word)\n",
    "        docs_data.append(doc_data)\n",
    "        pbar.update(1)\n",
    "    pbar.close()\n",
    "    return docs_data\n",
    "\n",
    "def filter_word_len(texts,size):\n",
    "    \"\"\"\n",
    "    Remove tokens if their length is smaller than threshold\n",
    "    \n",
    "    \"\"\"\n",
    "    docs_data=[]\n",
    "    pbar = tqdm(total = len(texts),desc='word filtering progress')\n",
    "    for doc in texts:\n",
    "        doc_data=[]\n",
    "        for word in doc:\n",
    "            if len(word)>=size:\n",
    "                doc_data.append(word)\n",
    "        docs_data.append(doc_data)\n",
    "        pbar.update(1)\n",
    "    pbar.close()\n",
    "    return docs_data\n",
    "\n",
    "def make_bigrams(texts):\n",
    "    \"\"\"\n",
    "    Combine words that are frequently occurs together\n",
    "    eg: Good Person , Great Content , Ever Growing\n",
    "    \"\"\"\n",
    "    # Build the bigram and models\n",
    "    pbar = tqdm(total = len(texts),desc='Bigram progress')\n",
    "    \n",
    "    bigram = gensim.models.Phrases(texts, min_count=5, threshold=100) # higher threshold fewer phrases.\n",
    "    bigram_mod = gensim.models.phrases.Phraser(bigram)\n",
    "    \n",
    "    pbar.update(len(texts))\n",
    "    pbar.close()\n",
    "    return [bigram_mod[doc] for doc in texts]\n",
    "\n",
    "\n",
    "def lemmatization(texts, allowed_postags=['NOUN', 'ADJ', 'VERB', 'ADV']):\n",
    "    \"\"\"\n",
    "    Only allows token which are noun,adjective,verb and adverb.\n",
    "    Also converting the tokens into base form\n",
    "    \"\"\"\n",
    "    nlp = spacy.load('en_core_web_sm', disable=['parser', 'ner'])\n",
    "    texts_out = []\n",
    "    pbar = tqdm(total = len(texts),desc='lemmatization progress')\n",
    "    \n",
    "    for sent in texts:\n",
    "        doc = nlp(\" \".join(sent)) \n",
    "        texts_out.append([token.lemma_ for token in doc if token.pos_ in allowed_postags])\n",
    "        pbar.update(1)\n",
    "    pbar.close()\n",
    "    \n",
    "    return texts_out\n",
    "\n",
    "def preprocessing_pipeline(doc_list,size):\n",
    "    \"\"\"\n",
    "    Converting each document into list of tokens that represents the document\n",
    "    \"\"\"\n",
    "    doc_list = convert_lowercase(doc_list)\n",
    "    doc_data_words = remove_punctuation(doc_list)\n",
    "    # Remove Stop Words\n",
    "    data_words_nostops = remove_stopwords(doc_data_words)\n",
    "    \n",
    "     # Form Bigrams\n",
    "    data_words_bigrams = make_bigrams(data_words_nostops)\n",
    "\n",
    "    data_lemmatized = lemmatization(data_words_bigrams, allowed_postags=['NOUN', 'ADJ', 'VERB', 'ADV'])\n",
    "    \n",
    "    final_data_words = filter_word_len(data_lemmatized,size)\n",
    "        \n",
    "    return final_data_words\n",
    "    \n",
    "def corpus_embeddings(data):\n",
    "    \"\"\"\n",
    "    Converting each token in each document into a tuple of (unique id, frequency of occuring in that document)\n",
    "    \"\"\"\n",
    "    # Create Dictionary\n",
    "    id2word = corpora.Dictionary(data)\n",
    "    # Create Corpus\n",
    "    texts = data\n",
    "    # Term Document Frequency\n",
    "    corpus = [id2word.doc2bow(text) for text in texts]\n",
    "    \n",
    "    return corpus,id2word\n",
    "    "
   ]
  },
  {
   "cell_type": "code",
   "execution_count": 7,
   "id": "frank-rabbit",
   "metadata": {},
   "outputs": [
    {
     "data": {
      "application/vnd.jupyter.widget-view+json": {
       "model_id": "93cb48d900174c60b55ce03e807ae825",
       "version_major": 2,
       "version_minor": 0
      },
      "text/plain": [
       "lowercase conversion progress:   0%|          | 0/14004 [00:00<?, ?it/s]"
      ]
     },
     "metadata": {},
     "output_type": "display_data"
    },
    {
     "data": {
      "application/vnd.jupyter.widget-view+json": {
       "model_id": "c111904a24454ccf96150404b3df7634",
       "version_major": 2,
       "version_minor": 0
      },
      "text/plain": [
       "punctuation removal progress:   0%|          | 0/14004 [00:00<?, ?it/s]"
      ]
     },
     "metadata": {},
     "output_type": "display_data"
    },
    {
     "data": {
      "application/vnd.jupyter.widget-view+json": {
       "model_id": "ec4bde2a7019440b9386f48497ca18a1",
       "version_major": 2,
       "version_minor": 0
      },
      "text/plain": [
       "stopword removal progress:   0%|          | 0/14004 [00:00<?, ?it/s]"
      ]
     },
     "metadata": {},
     "output_type": "display_data"
    },
    {
     "data": {
      "application/vnd.jupyter.widget-view+json": {
       "model_id": "15e34c15a55f4880a163cab26cfe5358",
       "version_major": 2,
       "version_minor": 0
      },
      "text/plain": [
       "Bigram progress:   0%|          | 0/14004 [00:00<?, ?it/s]"
      ]
     },
     "metadata": {},
     "output_type": "display_data"
    },
    {
     "data": {
      "application/vnd.jupyter.widget-view+json": {
       "model_id": "4209ca1e46ee41f490aac036badbec68",
       "version_major": 2,
       "version_minor": 0
      },
      "text/plain": [
       "lemmatization progress:   0%|          | 0/14004 [00:00<?, ?it/s]"
      ]
     },
     "metadata": {},
     "output_type": "display_data"
    },
    {
     "data": {
      "application/vnd.jupyter.widget-view+json": {
       "model_id": "053d9b8ecf204abdabee0f3977d24a60",
       "version_major": 2,
       "version_minor": 0
      },
      "text/plain": [
       "word filtering progress:   0%|          | 0/14004 [00:00<?, ?it/s]"
      ]
     },
     "metadata": {},
     "output_type": "display_data"
    }
   ],
   "source": [
    "processed_data = preprocessing_pipeline(articles_data,4) # this will take some time"
   ]
  },
  {
   "cell_type": "code",
   "execution_count": 8,
   "id": "172c102f",
   "metadata": {},
   "outputs": [
    {
     "data": {
      "text/plain": [
       "['ever_growe',\n",
       " 'dataset',\n",
       " 'observational',\n",
       " 'astronomy',\n",
       " 'challenge',\n",
       " 'scientist',\n",
       " 'many',\n",
       " 'aspect',\n",
       " 'include',\n",
       " 'efficient',\n",
       " 'interactive',\n",
       " 'datum',\n",
       " 'exploration',\n",
       " 'visualization',\n",
       " 'many',\n",
       " 'tool',\n",
       " 'develop',\n",
       " 'confront',\n",
       " 'challenge',\n",
       " 'however',\n",
       " 'usually',\n",
       " 'focus',\n",
       " 'display',\n",
       " 'actual',\n",
       " 'image',\n",
       " 'focus',\n",
       " 'visualizing',\n",
       " 'pattern',\n",
       " 'catalog',\n",
       " 'predefine',\n",
       " 'paper',\n",
       " 'introduce',\n",
       " 'vizic',\n",
       " 'visualization',\n",
       " 'library',\n",
       " 'build',\n",
       " 'connection',\n",
       " 'image',\n",
       " 'catalog',\n",
       " 'interactive',\n",
       " 'region',\n",
       " 'vizic',\n",
       " 'visualize',\n",
       " 'catalog',\n",
       " 'datum',\n",
       " 'custom',\n",
       " 'background',\n",
       " 'canvas',\n",
       " 'help',\n",
       " 'shape',\n",
       " 'size',\n",
       " 'orientation',\n",
       " 'object',\n",
       " 'catalog',\n",
       " 'display',\n",
       " 'object',\n",
       " 'highly',\n",
       " 'interactive',\n",
       " 'customizable',\n",
       " 'compare',\n",
       " 'image',\n",
       " 'object',\n",
       " 'filter',\n",
       " 'colored',\n",
       " 'property',\n",
       " 'redshift',\n",
       " 'also',\n",
       " 'select',\n",
       " 'help',\n",
       " 'lasso',\n",
       " 'tool',\n",
       " 'consider',\n",
       " 'analysis',\n",
       " 'help',\n",
       " 'standard',\n",
       " 'function',\n",
       " 'jupyter',\n",
       " 'notebook',\n",
       " 'furthermore',\n",
       " 'vizic',\n",
       " 'allow',\n",
       " 'custom',\n",
       " 'overlay',\n",
       " 'append',\n",
       " 'dynamically',\n",
       " 'initially',\n",
       " 'implement',\n",
       " 'several',\n",
       " 'overlay',\n",
       " 'namely',\n",
       " 'healpix',\n",
       " 'grid',\n",
       " 'layer',\n",
       " 'helpful',\n",
       " 'consider',\n",
       " 'visualize',\n",
       " 'large',\n",
       " 'scale',\n",
       " 'structure',\n",
       " 'overlay',\n",
       " 'generate',\n",
       " 'remove',\n",
       " 'interactively',\n",
       " 'line',\n",
       " 'code',\n",
       " 'catalog',\n",
       " 'datum',\n",
       " 'store',\n",
       " 'relational',\n",
       " 'database',\n",
       " 'interface',\n",
       " 'develop',\n",
       " 'javascript',\n",
       " 'python',\n",
       " 'work',\n",
       " 'notebook',\n",
       " 'allow',\n",
       " 'create',\n",
       " 'custom',\n",
       " 'widget',\n",
       " 'user',\n",
       " 'generate',\n",
       " 'script',\n",
       " 'analyze',\n",
       " 'plot',\n",
       " 'datum',\n",
       " 'select',\n",
       " 'display',\n",
       " 'interactive',\n",
       " 'unique',\n",
       " 'design',\n",
       " 'make',\n",
       " 'vizic',\n",
       " 'powerful',\n",
       " 'flexible',\n",
       " 'interactive',\n",
       " 'analysis',\n",
       " 'tool',\n",
       " 'vizic',\n",
       " 'adopt',\n",
       " 'variety',\n",
       " 'exercise',\n",
       " 'consider',\n",
       " 'example',\n",
       " 'data',\n",
       " 'inspection',\n",
       " 'clustering',\n",
       " 'analysis',\n",
       " 'galaxy',\n",
       " 'alignment',\n",
       " 'study',\n",
       " 'outlier',\n",
       " 'identification',\n",
       " 'simply',\n",
       " 'large',\n",
       " 'scale',\n",
       " 'visualization']"
      ]
     },
     "execution_count": 8,
     "metadata": {},
     "output_type": "execute_result"
    }
   ],
   "source": [
    "processed_data[0]"
   ]
  },
  {
   "cell_type": "markdown",
   "id": "9be80e57",
   "metadata": {},
   "source": [
    "### Step 4: Finalizing the input data\n",
    "In this step we will form our the inputs of model, which are:<br>\n",
    "* **Corpus**: A 2D embedded array of tuples, where each tuple is in the form of (token id, frequency of token in that document).\n",
    "* **dictionary**: A dictionary storing the mapping from token to id."
   ]
  },
  {
   "cell_type": "code",
   "execution_count": 9,
   "id": "measured-concert",
   "metadata": {},
   "outputs": [],
   "source": [
    "new_corpus,id_word = corpus_embeddings(processed_data)"
   ]
  },
  {
   "cell_type": "code",
   "execution_count": null,
   "id": "721661c1",
   "metadata": {},
   "outputs": [],
   "source": [
    "new_corpus"
   ]
  },
  {
   "cell_type": "code",
   "execution_count": null,
   "id": "4a991b6f",
   "metadata": {},
   "outputs": [],
   "source": [
    "id_word[0]"
   ]
  },
  {
   "cell_type": "code",
   "execution_count": 10,
   "id": "built-burden",
   "metadata": {},
   "outputs": [],
   "source": [
    "word_freq = [[(id_word[id], freq) for id, freq in cp] for cp in new_corpus[:1]]"
   ]
  },
  {
   "cell_type": "code",
   "execution_count": null,
   "id": "0037f711",
   "metadata": {},
   "outputs": [],
   "source": [
    "word_freq # A more human reable form of our corpus"
   ]
  },
  {
   "cell_type": "markdown",
   "id": "7a0b9e81",
   "metadata": {},
   "source": [
    "### Step 5: Modeling and Evaluation\n",
    "In this part we will fit our data to our the LDA model , some hyper parameter tuning , evaluate the results and select the optimal setting for our model."
   ]
  },
  {
   "cell_type": "code",
   "execution_count": 11,
   "id": "02c76558",
   "metadata": {},
   "outputs": [],
   "source": [
    "class LDA_model:\n",
    "    \"\"\"\n",
    "    A LDA Class consist functions to fit the model, calculating coherence values\n",
    "    and finding the optimal no. of topic\n",
    "    \n",
    "    input: \n",
    "     corpus : a 2D array of embedded tokens\n",
    "     dictionary: A dictionary with id to token mapping\n",
    "     \n",
    "    \"\"\"\n",
    "    def __init__(self, corpus,dictionary):\n",
    "        self.corpus = corpus\n",
    "        self.dictionary = dictionary\n",
    "    \n",
    "    def LDA(self,no_topics, a ='auto', b = 'auto',passes=10):\n",
    "        lda_model = gensim.models.ldamodel.LdaModel(corpus=self.corpus, id2word=self.dictionary,\n",
    "                                                    num_topics=no_topics, random_state=100,chunksize=100,passes=passes,alpha=a,eta=b)\n",
    "        return lda_model\n",
    "\n",
    "    def compute_coherence_values(self,processed_data,no_topics,a ='auto', b = 'auto',passes=10):\n",
    "        \"\"\"\n",
    "        Computes the coherence value of a fitted LDA model\n",
    "        \"\"\"\n",
    "    \n",
    "        pbar = tqdm(total = len(self.corpus),desc='LDA with '+str(no_topics)+' topics')\n",
    "        \n",
    "        lda_model = self.LDA(no_topics,a,b,passes)\n",
    "        pbar.update(len(self.corpus)/2)\n",
    "        coherence_model_lda = CoherenceModel(model=lda_model, texts=processed_data, dictionary=self.dictionary, coherence='c_v')\n",
    "        pbar.update(len(self.corpus) -(len(self.corpus)/2))\n",
    "        pbar.close()\n",
    "\n",
    "        return coherence_model_lda.get_coherence()\n",
    "\n",
    "    def compute_optimal_topics(self,processed_data,min_topics,max_topics,step_size,path):\n",
    "        \"\"\"\n",
    "        Calucates the coherence value for a given range of topic size and forms a dataset\n",
    "        \"\"\"\n",
    "        \n",
    "        topics_range = list(np.arange(min_topics,max_topics,step_size))\n",
    "        model_results = {'Topics': [],'Coherence': []}\n",
    "        # Can take a long time to run\n",
    "        for i in range(len(topics_range)):\n",
    "            # get the coherence score for the given parameters\n",
    "            cv = self.compute_coherence_values(processed_data,topics_range[i],a ='auto', b = 'auto',passes=10)\n",
    "            # Save the model results\n",
    "            model_results['Topics'].append(topics_range[i])\n",
    "            model_results['Coherence'].append(cv)\n",
    "        pd.DataFrame(model_results).to_csv(path, index=False)\n",
    "    \n",
    "    def Optimal_no_topics(self,path):\n",
    "        \"\"\"\n",
    "        finds the topic size with max coherence score\n",
    "        \"\"\"\n",
    "        coherence_data = pd.read_csv(path)\n",
    "        x = coherence_data.Topics.tolist()\n",
    "        y = coherence_data.Coherence.tolist()\n",
    "        plt.xlabel('No. of topics')\n",
    "        plt.ylabel('Coherence Score')\n",
    "        plt.plot(x,y)\n",
    "        plt.show()\n",
    "        index = np.argmax(y)\n",
    "        no_topics = x[index]\n",
    "        c_v = y[index]\n",
    "        print('Optimal number of topics: '+str(no_topics)+' coherence score: '+str(c_v))\n",
    "        \n",
    "        return no_topics,c_v\n",
    "    \n",
    "    def Optimal_lda_model(self,path):\n",
    "        \"\"\"\n",
    "        Fits the LDA with optimal topic size\n",
    "        \"\"\"\n",
    "        no_topic, c_v =  self.Optimal_no_topics(path)\n",
    "        pbar = tqdm(total = len(self.corpus),desc='LDA with '+str(no_topic)+' topics')\n",
    "        lda = self.LDA(no_topic)\n",
    "        pbar.update(len(self.corpus))\n",
    "        pbar.close()\n",
    "        \n",
    "        return lda\n",
    "        "
   ]
  },
  {
   "cell_type": "code",
   "execution_count": 12,
   "id": "3c5ef0bf",
   "metadata": {},
   "outputs": [],
   "source": [
    "lda_model = LDA_model(new_corpus,id_word)"
   ]
  },
  {
   "cell_type": "code",
   "execution_count": 13,
   "id": "d528e734",
   "metadata": {},
   "outputs": [],
   "source": [
    "path = './dat.csv'"
   ]
  },
  {
   "cell_type": "markdown",
   "id": "2c0a3603",
   "metadata": {},
   "source": [
    "**Note**: Computing the optimal number of topics for LDA will take a pretty long amount of time<br>\n",
    "The time complexity of this process : **O( m * x * p)**<br>\n",
    "where:<br>\n",
    "* m = no. of tokens in the corpus\n",
    "* x = summation of no. of topics given in the range\n",
    "* p = no. of passes for LDA model"
   ]
  },
  {
   "cell_type": "code",
   "execution_count": 14,
   "id": "7ce81716",
   "metadata": {},
   "outputs": [
    {
     "data": {
      "application/vnd.jupyter.widget-view+json": {
       "model_id": "70365e51d07e468d9878e393e18ede42",
       "version_major": 2,
       "version_minor": 0
      },
      "text/plain": [
       "LDA with 2 topics:   0%|          | 0/14004 [00:00<?, ?it/s]"
      ]
     },
     "metadata": {},
     "output_type": "display_data"
    },
    {
     "data": {
      "application/vnd.jupyter.widget-view+json": {
       "model_id": "aaa7fc35c464411c857e10bd06d16cb0",
       "version_major": 2,
       "version_minor": 0
      },
      "text/plain": [
       "LDA with 3 topics:   0%|          | 0/14004 [00:00<?, ?it/s]"
      ]
     },
     "metadata": {},
     "output_type": "display_data"
    }
   ],
   "source": [
    "lda_model.compute_optimal_topics(processed_data,2,4,1,path)"
   ]
  },
  {
   "cell_type": "code",
   "execution_count": 15,
   "id": "3865286b",
   "metadata": {},
   "outputs": [
    {
     "data": {
      "image/png": "[encoded data removed]",
      "text/plain": [
       "<Figure size 432x288 with 1 Axes>"
      ]
     },
     "metadata": {
      "needs_background": "light"
     },
     "output_type": "display_data"
    },
    {
     "name": "stdout",
     "output_type": "stream",
     "text": [
      "Optimal number of topics: 15 coherence score: 0.448488309\n"
     ]
    },
    {
     "data": {
      "application/vnd.jupyter.widget-view+json": {
       "model_id": "3d43e9f3eb3d4ccabae4494364c6d9de",
       "version_major": 2,
       "version_minor": 0
      },
      "text/plain": [
       "LDA with 15 topics:   0%|          | 0/14004 [00:00<?, ?it/s]"
      ]
     },
     "metadata": {},
     "output_type": "display_data"
    }
   ],
   "source": [
    "lda = lda_model.Optimal_lda_model('./results/lda_tuning_results1.csv')"
   ]
  },
  {
   "cell_type": "code",
   "execution_count": 16,
   "id": "3e53e079",
   "metadata": {},
   "outputs": [
    {
     "data": {
      "text/plain": [
       "[(0,\n",
       "  '0.114*\"target\" + 0.104*\"sentence\" + 0.071*\"domain\" + 0.064*\"play\" + 0.049*\"programming\" + 0.049*\"similarity\" + 0.048*\"advanced\" + 0.040*\"teacher\" + 0.034*\"adapt\" + 0.030*\"safety\"'),\n",
       " (1,\n",
       "  '0.089*\"robot\" + 0.089*\"environment\" + 0.071*\"user\" + 0.047*\"agent\" + 0.044*\"policy\" + 0.043*\"action\" + 0.037*\"human\" + 0.023*\"activity\" + 0.022*\"game\" + 0.020*\"robotic\"'),\n",
       " (2,\n",
       "  '0.044*\"model\" + 0.035*\"consider\" + 0.034*\"method\" + 0.025*\"base\" + 0.020*\"system\" + 0.016*\"propose\" + 0.015*\"help\" + 0.011*\"present\" + 0.011*\"framework\" + 0.010*\"different\"'),\n",
       " (3,\n",
       "  '0.073*\"surface\" + 0.063*\"flow\" + 0.062*\"geometry\" + 0.052*\"particle\" + 0.036*\"motion\" + 0.034*\"spectral\" + 0.032*\"angle\" + 0.024*\"force\" + 0.022*\"body\" + 0.020*\"plane\"'),\n",
       " (4,\n",
       "  '0.119*\"code\" + 0.076*\"platform\" + 0.056*\"filter\" + 0.052*\"rule\" + 0.050*\"feedback\" + 0.039*\"assess\" + 0.035*\"particularly\" + 0.031*\"recurrent_neural\" + 0.028*\"kernel\" + 0.026*\"forecasting\"'),\n",
       " (5,\n",
       "  '0.096*\"consider\" + 0.025*\"result\" + 0.023*\"show\" + 0.020*\"function\" + 0.014*\"number\" + 0.013*\"first\" + 0.013*\"also\" + 0.012*\"give\" + 0.012*\"study\" + 0.012*\"case\"'),\n",
       " (6,\n",
       "  '0.054*\"disk\" + 0.053*\"existence\" + 0.052*\"shape\" + 0.052*\"manifold\" + 0.031*\"unusual\" + 0.031*\"emission\" + 0.031*\"radio\" + 0.030*\"dust\" + 0.029*\"compact\" + 0.029*\"transition_metal\"'),\n",
       " (7,\n",
       "  '0.181*\"group\" + 0.082*\"mathbb\" + 0.054*\"recover\" + 0.054*\"conjecture\" + 0.053*\"proof\" + 0.052*\"cell\" + 0.049*\"ring\" + 0.032*\"algebra\" + 0.031*\"prime\" + 0.029*\"representation\"'),\n",
       " (8,\n",
       "  '0.088*\"problem\" + 0.046*\"algorithm\" + 0.039*\"time\" + 0.025*\"solution\" + 0.020*\"control\" + 0.020*\"optimization\" + 0.018*\"optimal\" + 0.017*\"equation\" + 0.015*\"complexity\" + 0.015*\"approximation\"'),\n",
       " (9,\n",
       "  '0.051*\"sample\" + 0.050*\"distribution\" + 0.047*\"datum\" + 0.031*\"model\" + 0.029*\"estimate\" + 0.025*\"error\" + 0.021*\"parameter\" + 0.021*\"probability\" + 0.020*\"approximation\" + 0.018*\"estimator\"'),\n",
       " (10,\n",
       "  '0.022*\"measurement\" + 0.020*\"find\" + 0.019*\"large\" + 0.018*\"field\" + 0.018*\"scale\" + 0.017*\"high\" + 0.017*\"study\" + 0.015*\"superconducte\" + 0.014*\"effect\" + 0.013*\"observe\"'),\n",
       " (11,\n",
       "  '0.050*\"phase\" + 0.041*\"wave\" + 0.041*\"order\" + 0.041*\"magnetic\" + 0.040*\"reconstruction\" + 0.034*\"temperature\" + 0.034*\"mode\" + 0.030*\"charge\" + 0.030*\"state\" + 0.029*\"energy\"'),\n",
       " (12,\n",
       "  '0.045*\"mass\" + 0.043*\"galaxy\" + 0.040*\"cluster\" + 0.029*\"star\" + 0.025*\"survey\" + 0.025*\"profile\" + 0.023*\"alpha\" + 0.023*\"observation\" + 0.022*\"line\" + 0.020*\"planet\"'),\n",
       " (13,\n",
       "  '0.061*\"network\" + 0.040*\"learn\" + 0.035*\"depth\" + 0.027*\"image\" + 0.025*\"learning\" + 0.023*\"dataset\" + 0.023*\"task\" + 0.022*\"deep\" + 0.022*\"datum\" + 0.019*\"feature\"'),\n",
       " (14,\n",
       "  '0.067*\"boundary\" + 0.066*\"operator\" + 0.054*\"omega\" + 0.054*\"invariant\" + 0.053*\"mathcal\" + 0.042*\"module\" + 0.041*\"positive\" + 0.030*\"calibration\" + 0.028*\"riemannian\" + 0.024*\"infty\"')]"
      ]
     },
     "execution_count": 16,
     "metadata": {},
     "output_type": "execute_result"
    }
   ],
   "source": [
    "lda.print_topics()"
   ]
  },
  {
   "cell_type": "markdown",
   "id": "bb068bf6",
   "metadata": {},
   "source": [
    "### Step 6: Visualization"
   ]
  },
  {
   "cell_type": "code",
   "execution_count": null,
   "id": "c99ab282",
   "metadata": {},
   "outputs": [],
   "source": [
    "import pyLDAvis\n",
    "import pyLDAvis.gensim_models as gensimvis\n",
    "pyLDAvis.enable_notebook()"
   ]
  },
  {
   "cell_type": "code",
   "execution_count": null,
   "id": "7a361cca",
   "metadata": {},
   "outputs": [],
   "source": [
    "vis =  gensimvis.prepare(lda, new_corpus, id_word)\n",
    "vis"
   ]
  },
  {
   "cell_type": "markdown",
   "id": "165ddf0a",
   "metadata": {},
   "source": [
    "### Goals\n",
    "\n",
    "- [x] Fitting a LDA model.\n",
    "- [x] Finding a the optimal no. topics with best coherence score.\n",
    "- [x] Returning the LDA model with optimal topics.\n",
    "- [x] Returning the optimal no. of topics.\n",
    "- [x] Returning the topics itself.\n"
   ]
  },
  {
   "cell_type": "markdown",
   "id": "18137c46",
   "metadata": {},
   "source": []
  }
 ],
 "metadata": {
  "kernelspec": {
   "display_name": "Python 3",
   "language": "python",
   "name": "python3"
  },
  "language_info": {
   "codemirror_mode": {
    "name": "ipython",
    "version": 3
   },
   "file_extension": ".py",
   "mimetype": "text/x-python",
   "name": "python",
   "nbconvert_exporter": "python",
   "pygments_lexer": "ipython3",
   "version": "3.8.8"
  }
 },
 "nbformat": 4,
 "nbformat_minor": 5
}
